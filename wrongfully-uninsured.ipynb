{
 "cells": [
  {
   "cell_type": "code",
   "execution_count": 1,
   "id": "35ad5c87",
   "metadata": {},
   "outputs": [],
   "source": [
    "## import libraries\n",
    "import pandas as pd"
   ]
  },
  {
   "cell_type": "code",
   "execution_count": 2,
   "id": "3d4f870b",
   "metadata": {},
   "outputs": [
    {
     "data": {
      "text/html": [
       "<div>\n",
       "<style scoped>\n",
       "    .dataframe tbody tr th:only-of-type {\n",
       "        vertical-align: middle;\n",
       "    }\n",
       "\n",
       "    .dataframe tbody tr th {\n",
       "        vertical-align: top;\n",
       "    }\n",
       "\n",
       "    .dataframe thead th {\n",
       "        text-align: right;\n",
       "    }\n",
       "</style>\n",
       "<table border=\"1\" class=\"dataframe\">\n",
       "  <thead>\n",
       "    <tr style=\"text-align: right;\">\n",
       "      <th></th>\n",
       "      <th>age</th>\n",
       "      <th>gender</th>\n",
       "      <th>bmi</th>\n",
       "      <th>children</th>\n",
       "      <th>smoker</th>\n",
       "      <th>region</th>\n",
       "      <th>charges</th>\n",
       "    </tr>\n",
       "  </thead>\n",
       "  <tbody>\n",
       "    <tr>\n",
       "      <th>0</th>\n",
       "      <td>63</td>\n",
       "      <td>female</td>\n",
       "      <td>36.850</td>\n",
       "      <td>0.0</td>\n",
       "      <td>no</td>\n",
       "      <td>southeast</td>\n",
       "      <td>13887.96850</td>\n",
       "    </tr>\n",
       "    <tr>\n",
       "      <th>1</th>\n",
       "      <td>28</td>\n",
       "      <td>male</td>\n",
       "      <td>37.100</td>\n",
       "      <td>1.0</td>\n",
       "      <td>no</td>\n",
       "      <td>southwest</td>\n",
       "      <td>3277.16100</td>\n",
       "    </tr>\n",
       "    <tr>\n",
       "      <th>2</th>\n",
       "      <td>33</td>\n",
       "      <td>male</td>\n",
       "      <td>35.245</td>\n",
       "      <td>0.0</td>\n",
       "      <td>no</td>\n",
       "      <td>northeast</td>\n",
       "      <td>12404.87910</td>\n",
       "    </tr>\n",
       "    <tr>\n",
       "      <th>3</th>\n",
       "      <td>41</td>\n",
       "      <td>male</td>\n",
       "      <td>30.780</td>\n",
       "      <td>3.0</td>\n",
       "      <td>yes</td>\n",
       "      <td>northeast</td>\n",
       "      <td>39597.40720</td>\n",
       "    </tr>\n",
       "    <tr>\n",
       "      <th>4</th>\n",
       "      <td>34</td>\n",
       "      <td>male</td>\n",
       "      <td>27.000</td>\n",
       "      <td>2.0</td>\n",
       "      <td>no</td>\n",
       "      <td>southwest</td>\n",
       "      <td>11737.84884</td>\n",
       "    </tr>\n",
       "    <tr>\n",
       "      <th>...</th>\n",
       "      <td>...</td>\n",
       "      <td>...</td>\n",
       "      <td>...</td>\n",
       "      <td>...</td>\n",
       "      <td>...</td>\n",
       "      <td>...</td>\n",
       "      <td>...</td>\n",
       "    </tr>\n",
       "    <tr>\n",
       "      <th>1363</th>\n",
       "      <td>88</td>\n",
       "      <td>male</td>\n",
       "      <td>23.760</td>\n",
       "      <td>0.0</td>\n",
       "      <td>yes</td>\n",
       "      <td>southeast</td>\n",
       "      <td>126926.51440</td>\n",
       "    </tr>\n",
       "    <tr>\n",
       "      <th>1364</th>\n",
       "      <td>49</td>\n",
       "      <td>female</td>\n",
       "      <td>22.610</td>\n",
       "      <td>1.0</td>\n",
       "      <td>no</td>\n",
       "      <td>northwest</td>\n",
       "      <td>9566.99090</td>\n",
       "    </tr>\n",
       "    <tr>\n",
       "      <th>1365</th>\n",
       "      <td>52</td>\n",
       "      <td>female</td>\n",
       "      <td>33.300</td>\n",
       "      <td>2.0</td>\n",
       "      <td>no</td>\n",
       "      <td>southwest</td>\n",
       "      <td>10806.83900</td>\n",
       "    </tr>\n",
       "    <tr>\n",
       "      <th>1366</th>\n",
       "      <td>29</td>\n",
       "      <td>female</td>\n",
       "      <td>25.900</td>\n",
       "      <td>0.0</td>\n",
       "      <td>no</td>\n",
       "      <td>southwest</td>\n",
       "      <td>3353.28400</td>\n",
       "    </tr>\n",
       "    <tr>\n",
       "      <th>1367</th>\n",
       "      <td>38</td>\n",
       "      <td>female</td>\n",
       "      <td>19.475</td>\n",
       "      <td>2.0</td>\n",
       "      <td>no</td>\n",
       "      <td>northwest</td>\n",
       "      <td>6933.24225</td>\n",
       "    </tr>\n",
       "  </tbody>\n",
       "</table>\n",
       "<p>1368 rows × 7 columns</p>\n",
       "</div>"
      ],
      "text/plain": [
       "      age  gender     bmi  children smoker     region       charges\n",
       "0      63  female  36.850       0.0     no  southeast   13887.96850\n",
       "1      28    male  37.100       1.0     no  southwest    3277.16100\n",
       "2      33    male  35.245       0.0     no  northeast   12404.87910\n",
       "3      41    male  30.780       3.0    yes  northeast   39597.40720\n",
       "4      34    male  27.000       2.0     no  southwest   11737.84884\n",
       "...   ...     ...     ...       ...    ...        ...           ...\n",
       "1363   88    male  23.760       0.0    yes  southeast  126926.51440\n",
       "1364   49  female  22.610       1.0     no  northwest    9566.99090\n",
       "1365   52  female  33.300       2.0     no  southwest   10806.83900\n",
       "1366   29  female  25.900       0.0     no  southwest    3353.28400\n",
       "1367   38  female  19.475       2.0     no  northwest    6933.24225\n",
       "\n",
       "[1368 rows x 7 columns]"
      ]
     },
     "execution_count": 2,
     "metadata": {},
     "output_type": "execute_result"
    }
   ],
   "source": [
    "## import insurance missing values\n",
    "imv = pd.read_csv(\"https://raw.githubusercontent.com/daidriannn/wrongfully-uninsured/main/insurance-missing-values.csv\")\n",
    "imv"
   ]
  },
  {
   "cell_type": "code",
   "execution_count": 3,
   "id": "42c0aab8",
   "metadata": {},
   "outputs": [
    {
     "name": "stdout",
     "output_type": "stream",
     "text": [
      "<class 'pandas.core.frame.DataFrame'>\n",
      "RangeIndex: 1368 entries, 0 to 1367\n",
      "Data columns (total 7 columns):\n",
      " #   Column    Non-Null Count  Dtype  \n",
      "---  ------    --------------  -----  \n",
      " 0   age       1368 non-null   int64  \n",
      " 1   gender    1368 non-null   object \n",
      " 2   bmi       1357 non-null   float64\n",
      " 3   children  1366 non-null   float64\n",
      " 4   smoker    1366 non-null   object \n",
      " 5   region    1368 non-null   object \n",
      " 6   charges   1341 non-null   float64\n",
      "dtypes: float64(3), int64(1), object(3)\n",
      "memory usage: 74.9+ KB\n"
     ]
    }
   ],
   "source": [
    "## insurance missing values\n",
    "## upload data context\n",
    "\n",
    "imv.info()"
   ]
  },
  {
   "cell_type": "code",
   "execution_count": 4,
   "id": "6aa6a8eb",
   "metadata": {},
   "outputs": [
    {
     "data": {
      "text/plain": [
       "0       63\n",
       "1       28\n",
       "2       33\n",
       "3       41\n",
       "4       34\n",
       "        ..\n",
       "1363    88\n",
       "1364    49\n",
       "1365    52\n",
       "1366    29\n",
       "1367    38\n",
       "Name: age, Length: 1368, dtype: int64"
      ]
     },
     "execution_count": 4,
     "metadata": {},
     "output_type": "execute_result"
    }
   ],
   "source": [
    "imv.age"
   ]
  },
  {
   "cell_type": "code",
   "execution_count": 5,
   "id": "123bce0d",
   "metadata": {},
   "outputs": [
    {
     "data": {
      "text/plain": [
       "0       female\n",
       "1         male\n",
       "2         male\n",
       "3         male\n",
       "4         male\n",
       "         ...  \n",
       "1363      male\n",
       "1364    female\n",
       "1365    female\n",
       "1366    female\n",
       "1367    female\n",
       "Name: gender, Length: 1368, dtype: object"
      ]
     },
     "execution_count": 5,
     "metadata": {},
     "output_type": "execute_result"
    }
   ],
   "source": [
    "imv.gender"
   ]
  },
  {
   "cell_type": "code",
   "execution_count": 6,
   "id": "cbc3b061",
   "metadata": {},
   "outputs": [
    {
     "data": {
      "text/plain": [
       "0       36.850\n",
       "1       37.100\n",
       "2       35.245\n",
       "3       30.780\n",
       "4       27.000\n",
       "         ...  \n",
       "1363    23.760\n",
       "1364    22.610\n",
       "1365    33.300\n",
       "1366    25.900\n",
       "1367    19.475\n",
       "Name: bmi, Length: 1368, dtype: float64"
      ]
     },
     "execution_count": 6,
     "metadata": {},
     "output_type": "execute_result"
    }
   ],
   "source": [
    "imv[\"bmi\"]"
   ]
  },
  {
   "cell_type": "code",
   "execution_count": 7,
   "id": "a47a0924",
   "metadata": {},
   "outputs": [
    {
     "data": {
      "text/plain": [
       "0       0.0\n",
       "1       1.0\n",
       "2       0.0\n",
       "3       3.0\n",
       "4       2.0\n",
       "       ... \n",
       "1363    0.0\n",
       "1364    1.0\n",
       "1365    2.0\n",
       "1366    0.0\n",
       "1367    2.0\n",
       "Name: children, Length: 1368, dtype: float64"
      ]
     },
     "execution_count": 7,
     "metadata": {},
     "output_type": "execute_result"
    }
   ],
   "source": [
    "imv[\"children\"]"
   ]
  },
  {
   "cell_type": "code",
   "execution_count": 8,
   "id": "2504e862",
   "metadata": {},
   "outputs": [
    {
     "name": "stdout",
     "output_type": "stream",
     "text": [
      "<class 'pandas.core.frame.DataFrame'>\n",
      "RangeIndex: 1368 entries, 0 to 1367\n",
      "Data columns (total 3 columns):\n",
      " #   Column  Non-Null Count  Dtype \n",
      "---  ------  --------------  ----- \n",
      " 0   age     1368 non-null   int64 \n",
      " 1   gender  1368 non-null   object\n",
      " 2   region  1368 non-null   object\n",
      "dtypes: int64(1), object(2)\n",
      "memory usage: 32.2+ KB\n"
     ]
    }
   ],
   "source": [
    "## create dataset that includes age, gender, and region\n",
    "\n",
    "x = imv[[\"age\",\"gender\",\"region\"]]\n",
    "x.info()"
   ]
  },
  {
   "cell_type": "code",
   "execution_count": null,
   "id": "16d9d913",
   "metadata": {},
   "outputs": [],
   "source": []
  }
 ],
 "metadata": {
  "kernelspec": {
   "display_name": "Python 3 (ipykernel)",
   "language": "python",
   "name": "python3"
  },
  "language_info": {
   "codemirror_mode": {
    "name": "ipython",
    "version": 3
   },
   "file_extension": ".py",
   "mimetype": "text/x-python",
   "name": "python",
   "nbconvert_exporter": "python",
   "pygments_lexer": "ipython3",
   "version": "3.9.13"
  }
 },
 "nbformat": 4,
 "nbformat_minor": 5
}
